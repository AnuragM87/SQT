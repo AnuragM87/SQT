{
 "cells": [
  {
   "cell_type": "code",
   "execution_count": 19,
   "id": "e44925e5-925c-403a-ab62-85c27688d852",
   "metadata": {},
   "outputs": [],
   "source": [
    "import numpy as np\n",
    "class SingleQubitTomography:\n",
    "    def __init__(self, Nh=0, Nv=0, Nl=0, Nd=0):\n",
    "        self.Nh = Nh\n",
    "        self.Nv = Nv\n",
    "        self.Nl = Nl\n",
    "        self.Nd = Nd\n",
    "\n",
    "    def get_Nh(self):\n",
    "        return self.Nh\n",
    "\n",
    "    def set_Nh(self, Nh):\n",
    "        self.Nh = Nh\n",
    "\n",
    "    def get_Nv(self):\n",
    "        return self.Nv\n",
    "\n",
    "    def set_Nv(self, Nv):\n",
    "        self.Nv = Nv\n",
    "\n",
    "    def get_Nl(self):\n",
    "        return self.Nl\n",
    "\n",
    "    def set_Nl(self, Nl):\n",
    "        self.Nl = Nl\n",
    "\n",
    "    def get_Nd(self):\n",
    "        return self.Nd\n",
    "\n",
    "    def set_Nd(self, Nd):\n",
    "        self.Nd = Nd\n",
    "    \n",
    "    def set_Ph(self):\n",
    "        self.Ph = self.Nh / self.Ntotal()\n",
    "    def get_Ph(self):\n",
    "        return self.Ph\n",
    "    def set_Pl(self):\n",
    "        self.Pl = self.Nl / self.Ntotal()\n",
    "    def get_Pl(self):    \n",
    "        return self.Pl\n",
    "    def set_Pd(self):   \n",
    "        self.Pd = self.Nd / self.Ntotal()\n",
    "    def get_Pd(self):\n",
    "        return self.Pd\n",
    "    def set_Pv(self):\n",
    "        self.Pv = self.Nv / self.Ntotal()\n",
    "    def get_Pv(self):\n",
    "        return  self.Pv\n",
    "    \n",
    "\n",
    "    def inputData(self):\n",
    "        print(f\"input Data: \\nNh={self.get_Nh()}\\nNv={self.get_Nv()}\\nNl={self.get_Nl()}\\nNd={self.get_Nd()}\")\n",
    "\n",
    "    def Ntotal(self):\n",
    "        return self.Nh + self.Nv\n",
    "\n",
    "    def probOfVectors(self):\n",
    "        self.set_Ph(self, self.get_Nh())\n",
    "        self.set_Pl(self, self.get_Nl())\n",
    "        self.set_Pd(self, self.get_Nd())\n",
    "        self.set_Pv(self, self.get_Nv())\n",
    "        Ph = self.get_Ph()\n",
    "        Pl = self.get_Pl()\n",
    "        Pd= self.get_Pd()\n",
    "        print(f\"Ph={Ph:.3f}\\nPl={Pl:.3f}\\nPd={Pd:.3f}\")\n",
    "        return round(Ph, 3), round(Pl, 3), round(Pd, 3)\n",
    "    \n",
    "    def setAllVectors(self):\n",
    "        print(\"Enter the values for Nh, Nv, Nl, Nd\")\n",
    "        inputNh = int(input(\"Nh: \"))\n",
    "        inputNv = int(input(\"Nv: \"))\n",
    "        inputNl = int(input(\"Nl: \"))\n",
    "        inputNd = int(input(\"Nd: \"))\n",
    "        self.set_Nh(inputNh)\n",
    "        self.set_Nv(inputNv)\n",
    "        self.set_Nl(inputNl)\n",
    "        self.set_Nd(inputNd)\n",
    "        print(\"Values set successfully\")\n",
    "\n",
    "    def generateMatrix(self):\n",
    "        self.probOfVectors()\n",
    "        values = [1, 2 * self.Nh - 1, 2 * self.Nl - 1, 2 * self.Nd - 1]\n",
    "        matrix = np.array(values).reshape(-1, 1)\n",
    "        return matrix\n",
    "\n",
    "\n",
    "\n"
   ]
  },
  {
   "cell_type": "code",
   "execution_count": 20,
   "id": "35869983",
   "metadata": {},
   "outputs": [
    {
     "name": "stdout",
     "output_type": "stream",
     "text": [
      "Enter the values for Nh, Nv, Nl, Nd\n",
      "Values set successfully\n"
     ]
    }
   ],
   "source": [
    "obj=SingleQubitTomography()\n",
    "obj.setAllVectors()\n"
   ]
  },
  {
   "cell_type": "code",
   "execution_count": 21,
   "id": "6241372a",
   "metadata": {},
   "outputs": [
    {
     "name": "stdout",
     "output_type": "stream",
     "text": [
      "input Data: \n",
      "Nh=122\n",
      "Nv=33\n",
      "Nl=22\n",
      "Nd=21\n",
      "Generating the matrix\n",
      "Generating the matrix\n",
      "[1]\n",
      "Generating the matrix\n",
      "[243]\n",
      "Generating the matrix\n",
      "[43]\n",
      "Generating the matrix\n",
      "[41]\n"
     ]
    }
   ],
   "source": [
    "obj.inputData()\n",
    "for i in range(len(obj.generateMatrix())): print(obj.generateMatrix()[i])"
   ]
  },
  {
   "cell_type": "code",
   "execution_count": null,
   "id": "dd766391",
   "metadata": {},
   "outputs": [],
   "source": []
  }
 ],
 "metadata": {
  "kernelspec": {
   "display_name": "Python 3 (ipykernel)",
   "language": "python",
   "name": "python3"
  },
  "language_info": {
   "codemirror_mode": {
    "name": "ipython",
    "version": 3
   },
   "file_extension": ".py",
   "mimetype": "text/x-python",
   "name": "python",
   "nbconvert_exporter": "python",
   "pygments_lexer": "ipython3",
   "version": "3.12.7"
  }
 },
 "nbformat": 4,
 "nbformat_minor": 5
}
