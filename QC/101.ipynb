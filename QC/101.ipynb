{
 "cells": [
  {
   "cell_type": "code",
   "execution_count": 1,
   "metadata": {},
   "outputs": [],
   "source": [
    "from anuragLib import SingleQubitTomography"
   ]
  },
  {
   "cell_type": "code",
   "execution_count": 2,
   "metadata": {},
   "outputs": [
    {
     "name": "stdout",
     "output_type": "stream",
     "text": [
      "Probabilities:\n",
      "Ph=0.300\n",
      "Pl=0.100\n",
      "Pd=0.200\n",
      "Pv=0.700\n",
      "Stokes Vector: [ 1.  -0.4 -0.8 -0.6]\n"
     ]
    }
   ],
   "source": [
    "\n",
    "tomography = SingleQubitTomography(Nh=30, Nv=70, Nl=10, Nd=20)\n",
    "stokes_vector = tomography.stokesVector().flatten()\n",
    "print(f\"Stokes Vector: {stokes_vector}\")"
   ]
  },
  {
   "cell_type": "code",
   "execution_count": 11,
   "metadata": {},
   "outputs": [
    {
     "name": "stdout",
     "output_type": "stream",
     "text": [
      "[[ 0.2+0.j  -0.2+0.4j]\n",
      " [-0.2-0.4j  0.8+0.j ]]\n"
     ]
    }
   ],
   "source": [
    "rho=tomography.rhoMatrix(stokes_vector)  \n",
    "print(rho)\n"
   ]
  },
  {
   "cell_type": "code",
   "execution_count": 14,
   "metadata": {},
   "outputs": [
    {
     "data": {
      "text/plain": [
       "(1+0j)"
      ]
     },
     "execution_count": 14,
     "metadata": {},
     "output_type": "execute_result"
    }
   ],
   "source": [
    "import numpy as np\n",
    "np.trace(tomography.get_rho())"
   ]
  },
  {
   "cell_type": "code",
   "execution_count": null,
   "metadata": {},
   "outputs": [],
   "source": []
  }
 ],
 "metadata": {
  "kernelspec": {
   "display_name": "base",
   "language": "python",
   "name": "python3"
  },
  "language_info": {
   "codemirror_mode": {
    "name": "ipython",
    "version": 3
   },
   "file_extension": ".py",
   "mimetype": "text/x-python",
   "name": "python",
   "nbconvert_exporter": "python",
   "pygments_lexer": "ipython3",
   "version": "3.12.7"
  },
  "orig_nbformat": 4
 },
 "nbformat": 4,
 "nbformat_minor": 2
}
