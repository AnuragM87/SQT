{
 "cells": [
  {
   "cell_type": "code",
   "execution_count": 5,
   "metadata": {},
   "outputs": [
    {
     "ename": "AttributeError",
     "evalue": "'Vectors' object has no attribute 'setAllVectors'",
     "output_type": "error",
     "traceback": [
      "\u001b[0;31m---------------------------------------------------------------------------\u001b[0m",
      "\u001b[0;31mAttributeError\u001b[0m                            Traceback (most recent call last)",
      "Cell \u001b[0;32mIn[5], line 4\u001b[0m\n\u001b[1;32m      1\u001b[0m \u001b[39mfrom\u001b[39;00m\u001b[39m \u001b[39m\u001b[39manuragLib\u001b[39;00m\u001b[39m \u001b[39m\u001b[39mimport\u001b[39;00m Vectors\n\u001b[1;32m      3\u001b[0m obj\u001b[39m=\u001b[39mVectors()\n\u001b[0;32m----> 4\u001b[0m obj\u001b[39m.\u001b[39;49msetAllVectors()\n",
      "\u001b[0;31mAttributeError\u001b[0m: 'Vectors' object has no attribute 'setAllVectors'"
     ]
    }
   ],
   "source": [
    "from anuragLib import Vectors\n",
    "\n",
    "obj=Vectors()\n",
    "obj.setAllVectors()"
   ]
  },
  {
   "cell_type": "code",
   "execution_count": null,
   "metadata": {},
   "outputs": [],
   "source": []
  }
 ],
 "metadata": {
  "kernelspec": {
   "display_name": "base",
   "language": "python",
   "name": "python3"
  },
  "language_info": {
   "codemirror_mode": {
    "name": "ipython",
    "version": 3
   },
   "file_extension": ".py",
   "mimetype": "text/x-python",
   "name": "python",
   "nbconvert_exporter": "python",
   "pygments_lexer": "ipython3",
   "version": "3.12.7"
  },
  "orig_nbformat": 4
 },
 "nbformat": 4,
 "nbformat_minor": 2
}
